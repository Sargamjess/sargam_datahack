{
 "cells": [
  {
   "cell_type": "code",
   "execution_count": 1,
   "id": "2b90636e-cdb5-40a4-81e4-daa7847d6441",
   "metadata": {},
   "outputs": [],
   "source": [
    "import pandas as pd\n",
    "from sklearn.model_selection import train_test_split\n",
    "from sklearn.impute import SimpleImputer\n",
    "from sklearn.preprocessing import OneHotEncoder, StandardScaler\n",
    "from sklearn.compose import ColumnTransformer\n",
    "from sklearn.pipeline import Pipeline"
   ]
  },
  {
   "cell_type": "code",
   "execution_count": 2,
   "id": "994c17e7-7cf4-490b-8bd5-96649c66d07c",
   "metadata": {},
   "outputs": [],
   "source": [
    "train_features = pd.read_csv(r'C:\\Users\\Manoj\\Desktop\\dataset and all1\\training_set_features.csv')\n",
    "train_labels = pd.read_csv(r'C:\\Users\\Manoj\\Desktop\\dataset and all1\\training_set_labels.csv')\n",
    "test_features = pd.read_csv(r'C:\\Users\\Manoj\\Desktop\\dataset and all1\\test_set_features.csv')\n"
   ]
  },
  {
   "cell_type": "code",
   "execution_count": 3,
   "id": "780e1432-18ed-47e2-b432-1fbfdc8a02ff",
   "metadata": {},
   "outputs": [],
   "source": [
    "train_respondent_id = train_features['respondent_id']\n",
    "test_respondent_id = test_features['respondent_id']"
   ]
  },
  {
   "cell_type": "code",
   "execution_count": 4,
   "id": "38d96663-e562-4319-a246-d4de187693e4",
   "metadata": {},
   "outputs": [],
   "source": [
    "train_features = train_features.drop(['respondent_id'], axis=1)\n",
    "test_features = test_features.drop(['respondent_id'], axis=1)"
   ]
  },
  {
   "cell_type": "code",
   "execution_count": 5,
   "id": "6e2ae395-c5b0-486c-826d-990e10c034c5",
   "metadata": {},
   "outputs": [],
   "source": [
    "num_cols = train_features.select_dtypes(include=['float64', 'int64']).columns\n",
    "cat_cols = train_features.select_dtypes(include=['object']).columns"
   ]
  },
  {
   "cell_type": "code",
   "execution_count": 6,
   "id": "fae9c29c-ec88-48de-9d99-80eb428aa667",
   "metadata": {},
   "outputs": [],
   "source": [
    "num_imputer = SimpleImputer(strategy='mean')\n",
    "cat_imputer = SimpleImputer(strategy='most_frequent')\n",
    "\n",
    "train_features[num_cols] = num_imputer.fit_transform(train_features[num_cols])\n",
    "train_features[cat_cols] = cat_imputer.fit_transform(train_features[cat_cols])\n",
    "\n",
    "test_features[num_cols] = num_imputer.transform(test_features[num_cols])\n",
    "test_features[cat_cols] = cat_imputer.transform(test_features[cat_cols])\n"
   ]
  },
  {
   "cell_type": "code",
   "execution_count": 7,
   "id": "d4574b1b-d121-4834-882f-614ef99c5936",
   "metadata": {},
   "outputs": [],
   "source": [
    "encoder = OneHotEncoder(drop='first', sparse_output=False)\n",
    "\n",
    "train_features_encoded = pd.DataFrame(encoder.fit_transform(train_features[cat_cols]))\n",
    "train_features_encoded.columns = encoder.get_feature_names_out(cat_cols)\n",
    "train_features = train_features.drop(cat_cols, axis=1)\n",
    "train_features = pd.concat([train_features, train_features_encoded], axis=1)\n",
    "\n",
    "test_features_encoded = pd.DataFrame(encoder.transform(test_features[cat_cols]))\n",
    "test_features_encoded.columns = encoder.get_feature_names_out(cat_cols)\n",
    "test_features = test_features.drop(cat_cols, axis=1)\n",
    "test_features = pd.concat([test_features, test_features_encoded], axis=1)"
   ]
  },
  {
   "cell_type": "code",
   "execution_count": 8,
   "id": "38478c72-4359-4862-b2fa-7d970734ac35",
   "metadata": {},
   "outputs": [],
   "source": [
    "scaler = StandardScaler()\n",
    "train_features[num_cols] = scaler.fit_transform(train_features[num_cols])\n",
    "test_features[num_cols] = scaler.transform(test_features[num_cols])"
   ]
  },
  {
   "cell_type": "code",
   "execution_count": 12,
   "id": "718ed49b-eb53-492b-9de8-d3d56dc5e892",
   "metadata": {},
   "outputs": [],
   "source": [
    "from sklearn.ensemble import RandomForestClassifier\n",
    "from sklearn.metrics import accuracy_score, roc_auc_score\n"
   ]
  },
  {
   "cell_type": "code",
   "execution_count": 13,
   "id": "b8ee6992-847b-4146-9cdf-ca5f163e9eeb",
   "metadata": {},
   "outputs": [],
   "source": [
    "y = train_labels[['xyz_vaccine', 'seasonal_vaccine']]\n"
   ]
  },
  {
   "cell_type": "code",
   "execution_count": 14,
   "id": "439869c9-92bf-4c35-9534-671b43bbfe0c",
   "metadata": {},
   "outputs": [],
   "source": [
    "X_train, X_val, y_train, y_val = train_test_split(train_features, y, test_size=0.2, random_state=42)"
   ]
  },
  {
   "cell_type": "code",
   "execution_count": 15,
   "id": "5c591eee-a3c3-4a6c-8541-9bac84ca8204",
   "metadata": {},
   "outputs": [
    {
     "data": {
      "text/html": [
       "<style>#sk-container-id-1 {color: black;background-color: white;}#sk-container-id-1 pre{padding: 0;}#sk-container-id-1 div.sk-toggleable {background-color: white;}#sk-container-id-1 label.sk-toggleable__label {cursor: pointer;display: block;width: 100%;margin-bottom: 0;padding: 0.3em;box-sizing: border-box;text-align: center;}#sk-container-id-1 label.sk-toggleable__label-arrow:before {content: \"▸\";float: left;margin-right: 0.25em;color: #696969;}#sk-container-id-1 label.sk-toggleable__label-arrow:hover:before {color: black;}#sk-container-id-1 div.sk-estimator:hover label.sk-toggleable__label-arrow:before {color: black;}#sk-container-id-1 div.sk-toggleable__content {max-height: 0;max-width: 0;overflow: hidden;text-align: left;background-color: #f0f8ff;}#sk-container-id-1 div.sk-toggleable__content pre {margin: 0.2em;color: black;border-radius: 0.25em;background-color: #f0f8ff;}#sk-container-id-1 input.sk-toggleable__control:checked~div.sk-toggleable__content {max-height: 200px;max-width: 100%;overflow: auto;}#sk-container-id-1 input.sk-toggleable__control:checked~label.sk-toggleable__label-arrow:before {content: \"▾\";}#sk-container-id-1 div.sk-estimator input.sk-toggleable__control:checked~label.sk-toggleable__label {background-color: #d4ebff;}#sk-container-id-1 div.sk-label input.sk-toggleable__control:checked~label.sk-toggleable__label {background-color: #d4ebff;}#sk-container-id-1 input.sk-hidden--visually {border: 0;clip: rect(1px 1px 1px 1px);clip: rect(1px, 1px, 1px, 1px);height: 1px;margin: -1px;overflow: hidden;padding: 0;position: absolute;width: 1px;}#sk-container-id-1 div.sk-estimator {font-family: monospace;background-color: #f0f8ff;border: 1px dotted black;border-radius: 0.25em;box-sizing: border-box;margin-bottom: 0.5em;}#sk-container-id-1 div.sk-estimator:hover {background-color: #d4ebff;}#sk-container-id-1 div.sk-parallel-item::after {content: \"\";width: 100%;border-bottom: 1px solid gray;flex-grow: 1;}#sk-container-id-1 div.sk-label:hover label.sk-toggleable__label {background-color: #d4ebff;}#sk-container-id-1 div.sk-serial::before {content: \"\";position: absolute;border-left: 1px solid gray;box-sizing: border-box;top: 0;bottom: 0;left: 50%;z-index: 0;}#sk-container-id-1 div.sk-serial {display: flex;flex-direction: column;align-items: center;background-color: white;padding-right: 0.2em;padding-left: 0.2em;position: relative;}#sk-container-id-1 div.sk-item {position: relative;z-index: 1;}#sk-container-id-1 div.sk-parallel {display: flex;align-items: stretch;justify-content: center;background-color: white;position: relative;}#sk-container-id-1 div.sk-item::before, #sk-container-id-1 div.sk-parallel-item::before {content: \"\";position: absolute;border-left: 1px solid gray;box-sizing: border-box;top: 0;bottom: 0;left: 50%;z-index: -1;}#sk-container-id-1 div.sk-parallel-item {display: flex;flex-direction: column;z-index: 1;position: relative;background-color: white;}#sk-container-id-1 div.sk-parallel-item:first-child::after {align-self: flex-end;width: 50%;}#sk-container-id-1 div.sk-parallel-item:last-child::after {align-self: flex-start;width: 50%;}#sk-container-id-1 div.sk-parallel-item:only-child::after {width: 0;}#sk-container-id-1 div.sk-dashed-wrapped {border: 1px dashed gray;margin: 0 0.4em 0.5em 0.4em;box-sizing: border-box;padding-bottom: 0.4em;background-color: white;}#sk-container-id-1 div.sk-label label {font-family: monospace;font-weight: bold;display: inline-block;line-height: 1.2em;}#sk-container-id-1 div.sk-label-container {text-align: center;}#sk-container-id-1 div.sk-container {/* jupyter's `normalize.less` sets `[hidden] { display: none; }` but bootstrap.min.css set `[hidden] { display: none !important; }` so we also need the `!important` here to be able to override the default hidden behavior on the sphinx rendered scikit-learn.org. See: https://github.com/scikit-learn/scikit-learn/issues/21755 */display: inline-block !important;position: relative;}#sk-container-id-1 div.sk-text-repr-fallback {display: none;}</style><div id=\"sk-container-id-1\" class=\"sk-top-container\"><div class=\"sk-text-repr-fallback\"><pre>RandomForestClassifier(random_state=42)</pre><b>In a Jupyter environment, please rerun this cell to show the HTML representation or trust the notebook. <br />On GitHub, the HTML representation is unable to render, please try loading this page with nbviewer.org.</b></div><div class=\"sk-container\" hidden><div class=\"sk-item\"><div class=\"sk-estimator sk-toggleable\"><input class=\"sk-toggleable__control sk-hidden--visually\" id=\"sk-estimator-id-1\" type=\"checkbox\" checked><label for=\"sk-estimator-id-1\" class=\"sk-toggleable__label sk-toggleable__label-arrow\">RandomForestClassifier</label><div class=\"sk-toggleable__content\"><pre>RandomForestClassifier(random_state=42)</pre></div></div></div></div></div>"
      ],
      "text/plain": [
       "RandomForestClassifier(random_state=42)"
      ]
     },
     "execution_count": 15,
     "metadata": {},
     "output_type": "execute_result"
    }
   ],
   "source": [
    "rf_xyz = RandomForestClassifier(random_state=42)\n",
    "rf_xyz.fit(X_train, y_train['xyz_vaccine'])"
   ]
  },
  {
   "cell_type": "code",
   "execution_count": 16,
   "id": "5c0a7c54-6497-40c4-bfee-783eed3de5c8",
   "metadata": {},
   "outputs": [],
   "source": [
    "y_val_pred_xyz = rf_xyz.predict(X_val)\n",
    "y_val_pred_proba_xyz = rf_xyz.predict_proba(X_val)[:, 1]"
   ]
  },
  {
   "cell_type": "code",
   "execution_count": 17,
   "id": "f672b899-2b47-403d-9ee2-9f907a3733a5",
   "metadata": {},
   "outputs": [
    {
     "name": "stdout",
     "output_type": "stream",
     "text": [
      "Accuracy for xyz_vaccine: 0.852864095844253\n",
      "ROC AUC for xyz_vaccine: 0.8614785820538032\n"
     ]
    }
   ],
   "source": [
    "accuracy_xyz = accuracy_score(y_val['xyz_vaccine'], y_val_pred_xyz)\n",
    "roc_auc_xyz = roc_auc_score(y_val['xyz_vaccine'], y_val_pred_proba_xyz)\n",
    "\n",
    "print(f\"Accuracy for xyz_vaccine: {accuracy_xyz}\")\n",
    "print(f\"ROC AUC for xyz_vaccine: {roc_auc_xyz}\")"
   ]
  },
  {
   "cell_type": "code",
   "execution_count": 18,
   "id": "2dbef34e-547a-4a71-93b7-5ebc3d5e2d99",
   "metadata": {},
   "outputs": [
    {
     "data": {
      "text/html": [
       "<style>#sk-container-id-2 {color: black;background-color: white;}#sk-container-id-2 pre{padding: 0;}#sk-container-id-2 div.sk-toggleable {background-color: white;}#sk-container-id-2 label.sk-toggleable__label {cursor: pointer;display: block;width: 100%;margin-bottom: 0;padding: 0.3em;box-sizing: border-box;text-align: center;}#sk-container-id-2 label.sk-toggleable__label-arrow:before {content: \"▸\";float: left;margin-right: 0.25em;color: #696969;}#sk-container-id-2 label.sk-toggleable__label-arrow:hover:before {color: black;}#sk-container-id-2 div.sk-estimator:hover label.sk-toggleable__label-arrow:before {color: black;}#sk-container-id-2 div.sk-toggleable__content {max-height: 0;max-width: 0;overflow: hidden;text-align: left;background-color: #f0f8ff;}#sk-container-id-2 div.sk-toggleable__content pre {margin: 0.2em;color: black;border-radius: 0.25em;background-color: #f0f8ff;}#sk-container-id-2 input.sk-toggleable__control:checked~div.sk-toggleable__content {max-height: 200px;max-width: 100%;overflow: auto;}#sk-container-id-2 input.sk-toggleable__control:checked~label.sk-toggleable__label-arrow:before {content: \"▾\";}#sk-container-id-2 div.sk-estimator input.sk-toggleable__control:checked~label.sk-toggleable__label {background-color: #d4ebff;}#sk-container-id-2 div.sk-label input.sk-toggleable__control:checked~label.sk-toggleable__label {background-color: #d4ebff;}#sk-container-id-2 input.sk-hidden--visually {border: 0;clip: rect(1px 1px 1px 1px);clip: rect(1px, 1px, 1px, 1px);height: 1px;margin: -1px;overflow: hidden;padding: 0;position: absolute;width: 1px;}#sk-container-id-2 div.sk-estimator {font-family: monospace;background-color: #f0f8ff;border: 1px dotted black;border-radius: 0.25em;box-sizing: border-box;margin-bottom: 0.5em;}#sk-container-id-2 div.sk-estimator:hover {background-color: #d4ebff;}#sk-container-id-2 div.sk-parallel-item::after {content: \"\";width: 100%;border-bottom: 1px solid gray;flex-grow: 1;}#sk-container-id-2 div.sk-label:hover label.sk-toggleable__label {background-color: #d4ebff;}#sk-container-id-2 div.sk-serial::before {content: \"\";position: absolute;border-left: 1px solid gray;box-sizing: border-box;top: 0;bottom: 0;left: 50%;z-index: 0;}#sk-container-id-2 div.sk-serial {display: flex;flex-direction: column;align-items: center;background-color: white;padding-right: 0.2em;padding-left: 0.2em;position: relative;}#sk-container-id-2 div.sk-item {position: relative;z-index: 1;}#sk-container-id-2 div.sk-parallel {display: flex;align-items: stretch;justify-content: center;background-color: white;position: relative;}#sk-container-id-2 div.sk-item::before, #sk-container-id-2 div.sk-parallel-item::before {content: \"\";position: absolute;border-left: 1px solid gray;box-sizing: border-box;top: 0;bottom: 0;left: 50%;z-index: -1;}#sk-container-id-2 div.sk-parallel-item {display: flex;flex-direction: column;z-index: 1;position: relative;background-color: white;}#sk-container-id-2 div.sk-parallel-item:first-child::after {align-self: flex-end;width: 50%;}#sk-container-id-2 div.sk-parallel-item:last-child::after {align-self: flex-start;width: 50%;}#sk-container-id-2 div.sk-parallel-item:only-child::after {width: 0;}#sk-container-id-2 div.sk-dashed-wrapped {border: 1px dashed gray;margin: 0 0.4em 0.5em 0.4em;box-sizing: border-box;padding-bottom: 0.4em;background-color: white;}#sk-container-id-2 div.sk-label label {font-family: monospace;font-weight: bold;display: inline-block;line-height: 1.2em;}#sk-container-id-2 div.sk-label-container {text-align: center;}#sk-container-id-2 div.sk-container {/* jupyter's `normalize.less` sets `[hidden] { display: none; }` but bootstrap.min.css set `[hidden] { display: none !important; }` so we also need the `!important` here to be able to override the default hidden behavior on the sphinx rendered scikit-learn.org. See: https://github.com/scikit-learn/scikit-learn/issues/21755 */display: inline-block !important;position: relative;}#sk-container-id-2 div.sk-text-repr-fallback {display: none;}</style><div id=\"sk-container-id-2\" class=\"sk-top-container\"><div class=\"sk-text-repr-fallback\"><pre>RandomForestClassifier(random_state=42)</pre><b>In a Jupyter environment, please rerun this cell to show the HTML representation or trust the notebook. <br />On GitHub, the HTML representation is unable to render, please try loading this page with nbviewer.org.</b></div><div class=\"sk-container\" hidden><div class=\"sk-item\"><div class=\"sk-estimator sk-toggleable\"><input class=\"sk-toggleable__control sk-hidden--visually\" id=\"sk-estimator-id-2\" type=\"checkbox\" checked><label for=\"sk-estimator-id-2\" class=\"sk-toggleable__label sk-toggleable__label-arrow\">RandomForestClassifier</label><div class=\"sk-toggleable__content\"><pre>RandomForestClassifier(random_state=42)</pre></div></div></div></div></div>"
      ],
      "text/plain": [
       "RandomForestClassifier(random_state=42)"
      ]
     },
     "execution_count": 18,
     "metadata": {},
     "output_type": "execute_result"
    }
   ],
   "source": [
    "rf_seasonal = RandomForestClassifier(random_state=42)\n",
    "rf_seasonal.fit(X_train, y_train['seasonal_vaccine'])\n"
   ]
  },
  {
   "cell_type": "code",
   "execution_count": 19,
   "id": "74ed9cc5-5f3d-426a-8d67-5b71847eb9f8",
   "metadata": {},
   "outputs": [
    {
     "name": "stdout",
     "output_type": "stream",
     "text": [
      "Accuracy for seasonal_vaccine: 0.7839760389367278\n",
      "ROC AUC for seasonal_vaccine: 0.8567148204426263\n"
     ]
    }
   ],
   "source": [
    "y_val_pred_seasonal = rf_seasonal.predict(X_val)\n",
    "y_val_pred_proba_seasonal = rf_seasonal.predict_proba(X_val)[:, 1]\n",
    "\n",
    "accuracy_seasonal = accuracy_score(y_val['seasonal_vaccine'], y_val_pred_seasonal)\n",
    "roc_auc_seasonal = roc_auc_score(y_val['seasonal_vaccine'], y_val_pred_proba_seasonal)\n",
    "\n",
    "print(f\"Accuracy for seasonal_vaccine: {accuracy_seasonal}\")\n",
    "print(f\"ROC AUC for seasonal_vaccine: {roc_auc_seasonal}\")"
   ]
  },
  {
   "cell_type": "code",
   "execution_count": 20,
   "id": "f31e64df-2be3-4671-982b-ed4ed621b563",
   "metadata": {},
   "outputs": [],
   "source": [
    "xyz_vaccine_proba = rf_xyz.predict_proba(test_features)[:, 1]\n",
    "seasonal_vaccine_proba = rf_seasonal.predict_proba(test_features)[:, 1]\n"
   ]
  },
  {
   "cell_type": "code",
   "execution_count": 23,
   "id": "04db3e2d-4bc9-4eae-91c7-61c0043d9169",
   "metadata": {},
   "outputs": [],
   "source": [
    "submission = pd.DataFrame({\n",
    "    'respondent_id': test_respondent_id,\n",
    "    'xyz_vaccine': xyz_vaccine_proba,\n",
    "    'seasonal_vaccine': seasonal_vaccine_proba})"
   ]
  },
  {
   "cell_type": "code",
   "execution_count": 24,
   "id": "fb471ce7-065f-4b30-ac6e-c3cda2aa9576",
   "metadata": {},
   "outputs": [],
   "source": [
    "submission['respondent_id'] = submission['respondent_id'].astype(int)"
   ]
  },
  {
   "cell_type": "code",
   "execution_count": 25,
   "id": "57b33999-3afd-4462-bc80-8da7c2badbfa",
   "metadata": {},
   "outputs": [],
   "source": [
    "submission.to_csv('submission.csv', index=False)\n"
   ]
  },
  {
   "cell_type": "code",
   "execution_count": null,
   "id": "92717ea8-1893-4d45-b0da-0a05e576fea8",
   "metadata": {},
   "outputs": [],
   "source": []
  }
 ],
 "metadata": {
  "kernelspec": {
   "display_name": "Python 3 (ipykernel)",
   "language": "python",
   "name": "python3"
  },
  "language_info": {
   "codemirror_mode": {
    "name": "ipython",
    "version": 3
   },
   "file_extension": ".py",
   "mimetype": "text/x-python",
   "name": "python",
   "nbconvert_exporter": "python",
   "pygments_lexer": "ipython3",
   "version": "3.11.7"
  }
 },
 "nbformat": 4,
 "nbformat_minor": 5
}
